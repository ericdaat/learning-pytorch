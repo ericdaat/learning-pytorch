{
 "cells": [
  {
   "cell_type": "markdown",
   "metadata": {},
   "source": [
    "# Pytorch Graph Auto Encoder\n",
    "\n",
    "Resources:\n",
    "\n",
    "- https://github.com/tkipf/gae\n",
    "- https://github.com/zfjsail/gae-pytorch\n",
    "- https://towardsdatascience.com/tutorial-on-variational-graph-auto-encoders-da9333281129\n",
    "- https://towardsdatascience.com/understanding-variational-autoencoders-vaes-f70510919f73\n",
    "- https://linqs.soe.ucsc.edu/data\n",
    "- https://scikit-learn.org/stable/modules/generated/sklearn.manifold.TSNE.html"
   ]
  },
  {
   "cell_type": "code",
   "execution_count": 75,
   "metadata": {},
   "outputs": [],
   "source": [
    "import os\n",
    "import sys\n",
    "import argparse\n",
    "\n",
    "import numpy as np\n",
    "from scipy import sparse as sp\n",
    "from matplotlib import pyplot as plt\n",
    "import seaborn as sns; sns.set(style=\"white\")\n",
    "import torch\n",
    "from torch import nn, optim\n",
    "import torch.nn.functional as F\n",
    "from sklearn.manifold import TSNE\n",
    "\n",
    "from utils import mask_test_edges, preprocess_graph, get_roc_score"
   ]
  },
  {
   "cell_type": "markdown",
   "metadata": {},
   "source": [
    "## Read the dataset"
   ]
  },
  {
   "cell_type": "code",
   "execution_count": 86,
   "metadata": {},
   "outputs": [],
   "source": [
    "sys.path.append(\"/Users/eric/Code/tkipf_gae\")\n",
    "\n",
    "from gae import input_data\n",
    "\n",
    "os.chdir(\"/Users/eric/Code/tkipf_gae/gae\")\n",
    "\n",
    "adj, features = input_data.load_data(\"cora\")"
   ]
  },
  {
   "cell_type": "code",
   "execution_count": 92,
   "metadata": {},
   "outputs": [],
   "source": [
    "assert isinstance(adj, sp.csr.csr_matrix)\n",
    "assert isinstance(features, sp.lil.lil_matrix)"
   ]
  },
  {
   "cell_type": "markdown",
   "metadata": {},
   "source": [
    "## Preprocess the data"
   ]
  },
  {
   "cell_type": "code",
   "execution_count": 50,
   "metadata": {},
   "outputs": [],
   "source": [
    "n_nodes, feat_dim = features.shape"
   ]
  },
  {
   "cell_type": "code",
   "execution_count": 51,
   "metadata": {},
   "outputs": [],
   "source": [
    "adj_orig = adj\n",
    "adj_orig = adj_orig - sp.dia_matrix((adj_orig.diagonal()[np.newaxis, :], [0]), shape=adj_orig.shape)\n",
    "adj_orig.eliminate_zeros()\n",
    "\n",
    "adj_train, train_edges, val_edges, val_edges_false, test_edges, test_edges_false = mask_test_edges(adj)\n",
    "adj = adj_train"
   ]
  },
  {
   "cell_type": "code",
   "execution_count": 52,
   "metadata": {},
   "outputs": [],
   "source": [
    "# Some preprocessing\n",
    "adj_norm = preprocess_graph(adj)\n",
    "adj_label = adj_train + sp.eye(adj_train.shape[0])\n",
    "adj_label = torch.FloatTensor(adj_label.toarray())\n",
    "\n",
    "pos_weight = float(adj.shape[0] * adj.shape[0] - adj.sum()) / adj.sum()\n",
    "norm = adj.shape[0] * adj.shape[0] / float((adj.shape[0] * adj.shape[0] - adj.sum()) * 2)\n",
    "\n",
    "features = torch.FloatTensor(np.array(features.todense()))"
   ]
  },
  {
   "cell_type": "markdown",
   "metadata": {},
   "source": [
    "## Define the model"
   ]
  },
  {
   "cell_type": "markdown",
   "metadata": {},
   "source": [
    "### Layers"
   ]
  },
  {
   "cell_type": "code",
   "execution_count": 53,
   "metadata": {},
   "outputs": [],
   "source": [
    "class GraphConvolution(nn.Module):\n",
    "    \"\"\"\n",
    "    Simple GCN layer, similar to https://arxiv.org/abs/1609.02907\n",
    "    \"\"\"\n",
    "\n",
    "    def __init__(self, in_features, out_features, dropout=0., act=F.relu):\n",
    "        super(GraphConvolution, self).__init__()\n",
    "        self.in_features = in_features\n",
    "        self.out_features = out_features\n",
    "        self.dropout = dropout\n",
    "        self.act = act\n",
    "        self.weight = nn.Parameter(torch.FloatTensor(in_features, out_features))\n",
    "        self.reset_parameters()\n",
    "\n",
    "    def reset_parameters(self):\n",
    "        torch.nn.init.xavier_uniform_(self.weight)\n",
    "\n",
    "    def forward(self, input, adj):\n",
    "        input = F.dropout(input, self.dropout, self.training)\n",
    "        support = torch.mm(input, self.weight)\n",
    "        output = torch.spmm(adj, support)\n",
    "        output = self.act(output)\n",
    "        \n",
    "        return output\n",
    "\n",
    "    def __repr__(self):\n",
    "        return \"{0} ({1} -> {2})\".format(self.__class__.__name__,\n",
    "                                         self.in_features,\n",
    "                                         self.out_features)\n",
    "    \n",
    "\n",
    "class InnerProductDecoder(nn.Module):\n",
    "    \"\"\"Decoder for using inner product for prediction.\"\"\"\n",
    "\n",
    "    def __init__(self, dropout, act=torch.sigmoid):\n",
    "        super(InnerProductDecoder, self).__init__()\n",
    "        self.dropout = dropout\n",
    "        self.act = act\n",
    "\n",
    "    def forward(self, z):\n",
    "        z = F.dropout(z, self.dropout, training=self.training)\n",
    "        adj = self.act(torch.mm(z, z.t()))\n",
    "        \n",
    "        return adj"
   ]
  },
  {
   "cell_type": "markdown",
   "metadata": {},
   "source": [
    "### Model"
   ]
  },
  {
   "cell_type": "code",
   "execution_count": 54,
   "metadata": {},
   "outputs": [],
   "source": [
    "class GCNModelVAE(nn.Module):\n",
    "    def __init__(self, input_feat_dim, hidden_dim1, hidden_dim2, dropout):\n",
    "        super(GCNModelVAE, self).__init__()\n",
    "        self.gc1 = GraphConvolution(input_feat_dim, hidden_dim1, dropout, act=F.relu)\n",
    "        self.gc2 = GraphConvolution(hidden_dim1, hidden_dim2, dropout, act=lambda x: x)\n",
    "        self.gc3 = GraphConvolution(hidden_dim1, hidden_dim2, dropout, act=lambda x: x)\n",
    "        self.dc = InnerProductDecoder(dropout, act=lambda x: x)\n",
    "\n",
    "    def encode(self, x, adj):\n",
    "        hidden1 = self.gc1(x, adj)\n",
    "        mu = self.gc2(hidden1, adj)\n",
    "        logvar = self.gc3(hidden1, adj)\n",
    "        \n",
    "        return mu, logvar\n",
    "\n",
    "    def reparameterize(self, mu, logvar):\n",
    "        if self.training:\n",
    "            std = torch.exp(logvar)\n",
    "            eps = torch.randn_like(std)\n",
    "            return eps.mul(std).add_(mu)\n",
    "        else:\n",
    "            return mu\n",
    "\n",
    "    def forward(self, x, adj):\n",
    "        mu, logvar = self.encode(x, adj)\n",
    "        z = self.reparameterize(mu, logvar)\n",
    "        \n",
    "        return self.dc(z), mu, logvar"
   ]
  },
  {
   "cell_type": "markdown",
   "metadata": {},
   "source": [
    "### Loss function"
   ]
  },
  {
   "cell_type": "code",
   "execution_count": 55,
   "metadata": {},
   "outputs": [],
   "source": [
    "def loss_function(preds, labels, mu, logvar, n_nodes, norm, pos_weight):\n",
    "    BCE = norm * F.binary_cross_entropy_with_logits(preds, labels, pos_weight=pos_weight)\n",
    "\n",
    "    # see Appendix B from VAE paper:\n",
    "    # Kingma and Welling. Auto-Encoding Variational Bayes. ICLR, 2014\n",
    "    # https://arxiv.org/abs/1312.6114\n",
    "    # 0.5 * sum(1 + log(sigma^2) - mu^2 - sigma^2)\n",
    "    KLD = -0.5 / n_nodes * torch.mean(torch.sum(\n",
    "        1 + 2 * logvar - mu.pow(2) - logvar.exp().pow(2), 1))\n",
    "    \n",
    "    return BCE + KLD"
   ]
  },
  {
   "cell_type": "markdown",
   "metadata": {},
   "source": [
    "## Training"
   ]
  },
  {
   "cell_type": "code",
   "execution_count": 58,
   "metadata": {},
   "outputs": [],
   "source": [
    "model = GCNModelVAE(feat_dim, 32, 16, 0)\n",
    "optimizer = optim.Adam(model.parameters(), lr=.01)"
   ]
  },
  {
   "cell_type": "code",
   "execution_count": 59,
   "metadata": {},
   "outputs": [
    {
     "name": "stdout",
     "output_type": "stream",
     "text": [
      "Epoch: 0001 train_loss= 1.74277 val_ap= 0.74262\n",
      "Epoch: 0002 train_loss= 1.46373 val_ap= 0.68985\n",
      "Epoch: 0003 train_loss= 1.27372 val_ap= 0.68043\n",
      "Epoch: 0004 train_loss= 1.11735 val_ap= 0.68532\n",
      "Epoch: 0005 train_loss= 0.96673 val_ap= 0.69801\n",
      "Epoch: 0006 train_loss= 0.84475 val_ap= 0.72067\n",
      "Epoch: 0007 train_loss= 0.76958 val_ap= 0.75283\n",
      "Epoch: 0008 train_loss= 0.73591 val_ap= 0.77705\n",
      "Epoch: 0009 train_loss= 0.71665 val_ap= 0.77093\n",
      "Epoch: 0010 train_loss= 0.71117 val_ap= 0.75924\n",
      "Epoch: 0011 train_loss= 0.70827 val_ap= 0.77704\n",
      "Epoch: 0012 train_loss= 0.69080 val_ap= 0.81920\n",
      "Epoch: 0013 train_loss= 0.66911 val_ap= 0.85338\n",
      "Epoch: 0014 train_loss= 0.65115 val_ap= 0.86224\n",
      "Epoch: 0015 train_loss= 0.63046 val_ap= 0.86533\n",
      "Epoch: 0016 train_loss= 0.60808 val_ap= 0.87303\n",
      "Epoch: 0017 train_loss= 0.58368 val_ap= 0.87754\n",
      "Epoch: 0018 train_loss= 0.56540 val_ap= 0.87894\n",
      "Epoch: 0019 train_loss= 0.54979 val_ap= 0.87925\n",
      "Epoch: 0020 train_loss= 0.54564 val_ap= 0.87758\n",
      "Epoch: 0021 train_loss= 0.54625 val_ap= 0.87839\n",
      "Epoch: 0022 train_loss= 0.54187 val_ap= 0.87982\n",
      "Epoch: 0023 train_loss= 0.54002 val_ap= 0.88219\n",
      "Epoch: 0024 train_loss= 0.53595 val_ap= 0.88793\n",
      "Epoch: 0025 train_loss= 0.53432 val_ap= 0.89343\n",
      "Epoch: 0026 train_loss= 0.52813 val_ap= 0.89694\n",
      "Epoch: 0027 train_loss= 0.51551 val_ap= 0.89922\n",
      "Epoch: 0028 train_loss= 0.50639 val_ap= 0.90297\n",
      "Epoch: 0029 train_loss= 0.50169 val_ap= 0.90836\n",
      "Epoch: 0030 train_loss= 0.50084 val_ap= 0.91134\n",
      "Epoch: 0031 train_loss= 0.49883 val_ap= 0.91274\n",
      "Epoch: 0032 train_loss= 0.49427 val_ap= 0.91350\n",
      "Epoch: 0033 train_loss= 0.49201 val_ap= 0.91575\n",
      "Epoch: 0034 train_loss= 0.49198 val_ap= 0.91649\n",
      "Epoch: 0035 train_loss= 0.49099 val_ap= 0.91666\n",
      "Epoch: 0036 train_loss= 0.48938 val_ap= 0.91738\n",
      "Epoch: 0037 train_loss= 0.48690 val_ap= 0.91806\n",
      "Epoch: 0038 train_loss= 0.48340 val_ap= 0.91965\n",
      "Epoch: 0039 train_loss= 0.47965 val_ap= 0.92160\n",
      "Epoch: 0040 train_loss= 0.47794 val_ap= 0.92286\n",
      "Epoch: 0041 train_loss= 0.47563 val_ap= 0.92388\n",
      "Epoch: 0042 train_loss= 0.47390 val_ap= 0.92422\n",
      "Epoch: 0043 train_loss= 0.47253 val_ap= 0.92518\n",
      "Epoch: 0044 train_loss= 0.47070 val_ap= 0.92584\n",
      "Epoch: 0045 train_loss= 0.47004 val_ap= 0.92661\n",
      "Epoch: 0046 train_loss= 0.46875 val_ap= 0.92759\n",
      "Epoch: 0047 train_loss= 0.46780 val_ap= 0.92847\n",
      "Epoch: 0048 train_loss= 0.46631 val_ap= 0.92832\n",
      "Epoch: 0049 train_loss= 0.46543 val_ap= 0.92913\n",
      "Epoch: 0050 train_loss= 0.46369 val_ap= 0.92977\n"
     ]
    }
   ],
   "source": [
    "for epoch in range(50):\n",
    "    model.train()\n",
    "    optimizer.zero_grad()\n",
    "    recovered, mu, logvar = model(features, adj_norm)\n",
    "\n",
    "    pos_weight = torch.FloatTensor([pos_weight])\n",
    "\n",
    "    loss = loss_function(preds=recovered, labels=adj_label,\n",
    "                         mu=mu, logvar=logvar, n_nodes=n_nodes,\n",
    "                         norm=norm, pos_weight=pos_weight)\n",
    "\n",
    "    loss.backward()\n",
    "\n",
    "    cur_loss = loss.item()\n",
    "    optimizer.step()\n",
    "\n",
    "    hidden_emb = mu.data.numpy()\n",
    "    roc_curr, ap_curr = get_roc_score(hidden_emb, adj_orig, val_edges, val_edges_false)\n",
    "\n",
    "    print(\n",
    "        \"Epoch:\", '%04d' % (epoch + 1),\n",
    "        \"train_loss=\", \"{:.5f}\".format(cur_loss),\n",
    "        \"val_ap=\", \"{:.5f}\".format(ap_curr)\n",
    "    )"
   ]
  },
  {
   "cell_type": "markdown",
   "metadata": {},
   "source": [
    "## Visualizing embeddings"
   ]
  },
  {
   "cell_type": "code",
   "execution_count": 60,
   "metadata": {},
   "outputs": [],
   "source": [
    "tsne = TSNE(n_components=2)\n",
    "hidden_emb_tsne = tsne.fit_transform(hidden_emb)"
   ]
  },
  {
   "cell_type": "code",
   "execution_count": 76,
   "metadata": {},
   "outputs": [
    {
     "data": {
      "image/png": "[encoded data removed]",
      "text/plain": [
       "<Figure size 576x576 with 1 Axes>"
      ]
     },
     "metadata": {},
     "output_type": "display_data"
    }
   ],
   "source": [
    "plt.figure(figsize=(8, 8))\n",
    "plt.scatter(hidden_emb_tsne[:, 0], hidden_emb_tsne[:, 1], s=3)\n",
    "\n",
    "plt.title(\"TSNE reprensentation of node embeddings\")\n",
    "plt.xlabel(\"Component 1\")\n",
    "plt.ylabel(\"Component 2\")\n",
    "\n",
    "plt.show()"
   ]
  },
  {
   "cell_type": "code",
   "execution_count": null,
   "metadata": {},
   "outputs": [],
   "source": []
  }
 ],
 "metadata": {
  "kernelspec": {
   "display_name": "Python 3",
   "language": "python",
   "name": "python3"
  },
  "language_info": {
   "codemirror_mode": {
    "name": "ipython",
    "version": 3
   },
   "file_extension": ".py",
   "mimetype": "text/x-python",
   "name": "python",
   "nbconvert_exporter": "python",
   "pygments_lexer": "ipython3",
   "version": "3.7.6"
  },
  "toc-autonumbering": true
 },
 "nbformat": 4,
 "nbformat_minor": 4
}
